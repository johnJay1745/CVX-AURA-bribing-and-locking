{
  "nbformat": 4,
  "nbformat_minor": 0,
  "metadata": {
    "colab": {
      "private_outputs": true,
      "provenance": [],
      "authorship_tag": "ABX9TyPByMTYx/bApnEE+FzOQ9R5",
      "include_colab_link": true
    },
    "kernelspec": {
      "name": "python3",
      "display_name": "Python 3"
    },
    "language_info": {
      "name": "python"
    }
  },
  "cells": [
    {
      "cell_type": "markdown",
      "metadata": {
        "id": "view-in-github",
        "colab_type": "text"
      },
      "source": [
        "<a href=\"https://colab.research.google.com/github/johnJay1745/CVX-AURA-bribing-and-locking/blob/main/Emission_calcs.ipynb\" target=\"_parent\"><img src=\"https://colab.research.google.com/assets/colab-badge.svg\" alt=\"Open In Colab\"/></a>"
      ]
    },
    {
      "cell_type": "code",
      "execution_count": null,
      "metadata": {
        "id": "6V5wgKhyc0hb"
      },
      "outputs": [],
      "source": [
        "!pip install duneanalytics"
      ]
    },
    {
      "cell_type": "code",
      "source": [
        "from duneanalytics import DuneAnalytics\n",
        "import pandas as pd \n",
        "import numpy as np \n",
        "import numpy as np\n",
        "import time\n",
        "import datetime\n",
        "from datetime import datetime\n",
        "import scipy.stats as st\n",
        "import seaborn as sns\n",
        "import matplotlib.pyplot as plt \n",
        "import csv\n",
        "import json\n",
        "import requests"
      ],
      "metadata": {
        "id": "L2wddJU3QTOi"
      },
      "execution_count": null,
      "outputs": []
    },
    {
      "cell_type": "code",
      "source": [
        "def get_dune_data(id):\n",
        "    dune = DuneAnalytics('karlkautsky1938', 'karlkautsky1938')\n",
        "    dune.login()\n",
        "    dune.fetch_auth_token()\n",
        "    result_id = dune.query_result_id(query_id = id)\n",
        "    return dune.query_result(result_id)"
      ],
      "metadata": {
        "id": "s8gxRqwJLVAm"
      },
      "execution_count": null,
      "outputs": []
    },
    {
      "cell_type": "code",
      "source": [
        "def get_token_supply(token):\n",
        "    total_supply = (requests.get(\n",
        "    \"https://api.coingecko.com/api/v3/coins/\" + \n",
        "    token).json()\n",
        "    [\"market_data\"]\n",
        "    [\"total_supply\"])\n",
        "    return total_supply"
      ],
      "metadata": {
        "id": "GBHfZfZNKBp2"
      },
      "execution_count": null,
      "outputs": []
    },
    {
      "cell_type": "code",
      "source": [
        "def get_token_price(token):\n",
        "    price_usd = (requests.get(\n",
        "    \"https://api.coingecko.com/api/v3/coins/\" + \n",
        "    token).json()\n",
        "    [\"market_data\"]\n",
        "    [\"current_price\"]\n",
        "    [\"usd\"])\n",
        "    return price_usd"
      ],
      "metadata": {
        "id": "m2LVlPcHKINp"
      },
      "execution_count": null,
      "outputs": []
    },
    {
      "cell_type": "code",
      "source": [
        "tokens = {\n",
        "\n",
        "    \"CVX\":{\n",
        "        \"max_supply\": 100000000,\n",
        "        \"total_supply\":float(get_token_supply(\"convex-finance\")) ,\n",
        "        \"cliff_count\": 1000,\n",
        "        \"сliff_size\": 100000,\n",
        "        \"current_cliff\": 95591144 / 100000,\n",
        "        \"weekly_take_rate\": 0.9\n",
        "    },\n",
        "\n",
        "    \"CRV\": {\n",
        "        \"yearly_emission\": 194323750.2,\n",
        "        \"community_ption\": 0.57,\n",
        "        \"CVX_portion\": 0.5\n",
        "    }\n",
        "\n",
        "}"
      ],
      "metadata": {
        "id": "dsGzcqPJP1zP"
      },
      "execution_count": null,
      "outputs": []
    },
    {
      "cell_type": "code",
      "source": [
        "def calc_CVX_emission_array(tokens,growth_multiple):\n",
        "    CVX_emissions = []\n",
        "    CVX_total_supplies = []\n",
        "    df = pd.DataFrame()\n",
        "    weeks = list(range(0,35))\n",
        "    CRV_capture_rate = 0.47\n",
        "    CVX_total_supply = tokens[\"CVX\"][\"total_supply\"]\n",
        "    current_cliff = CVX_total_supply / tokens[\"CVX\"][\"сliff_size\"]\n",
        "    weekly_CVX_emission = ((\n",
        "    tokens[\"CRV\"][\"yearly_emission\"] * \n",
        "    7 / \n",
        "    365) * \n",
        "    CRV_capture_rate)\n",
        "\n",
        "    cliff_count = tokens[\"CVX\"][\"cliff_count\"]\n",
        "\n",
        "    for i in range(len(weeks)):\n",
        "\n",
        "        remaining = cliff_count - current_cliff\n",
        "        CVX_emission = weekly_CVX_emission * remaining / cliff_count\n",
        "\n",
        "        CVX_emissions.append(CVX_emission)\n",
        "        CRV_capture_rate *= 1.005\n",
        "        CVX_total_supply += CVX_emission\n",
        "        CVX_total_supplies.append(CVX_total_supply)\n",
        "        current_cliff = CVX_total_supply / tokens[\"CVX\"][\"сliff_size\"]\n",
        "\n",
        "    df[\"week\"] = weeks\n",
        "    df[\"CVX_total_supply\"] = CVX_total_supplies\n",
        "    df[\"CVX_emissions\"] = CVX_emissions\n",
        "    df[\"CVX_supply_growth\"] = (\n",
        "    df[\"CVX_total_supply\"].\n",
        "    shift(1) * \n",
        "    growth_multiple / \n",
        "    df[\"CVX_total_supply\"])\n",
        "    \n",
        "    return df"
      ],
      "metadata": {
        "id": "regRGAsQng7z"
      },
      "execution_count": null,
      "outputs": []
    },
    {
      "cell_type": "code",
      "source": [
        "def calc_amount_to_lock(tokens,growth_multiple,APR,pool_size,price):\n",
        "    df = calc_CVX_emission_array(tokens,growth_multiple)\n",
        "    df[\"CVX_locked\"] = (\n",
        "    get_dune_data(476828)\n",
        "    [\"data\"]\n",
        "    [\"get_result_by_result_id\"]\n",
        "    [0]\n",
        "    [\"data\"]\n",
        "    [\"cvx_locked\"])\n",
        "    CVX_required = (APR * 7 / 365) * pool_size / price \n",
        "    df[\"СVX_portion\"] = CVX_required / df[\"CVX_emissions\"]\n",
        "    df[\"CVX_to_lock\"] =  (\n",
        "    df[\"CVX_locked\"] *\n",
        "    df[\"СVX_portion\"] *\n",
        "    price *\n",
        "    df[\"CVX_supply_growth\"])\n",
        "    \n",
        "    return df"
      ],
      "metadata": {
        "id": "Ze-pJRPgA10P"
      },
      "execution_count": null,
      "outputs": []
    },
    {
      "cell_type": "code",
      "source": [
        "def calc_bribes(tokens,growth_multiple,profit_multiplier,APR,pool_size,price):\n",
        "    df = calc_amount_to_lock(tokens,profit_multiplier,APR,pool_size,price)\n",
        "    USD_per_vlCVX_array = []\n",
        "\n",
        "    vlCVX_delegated_perc = (\n",
        "    get_dune_data(440612)\n",
        "    [\"data\"]\n",
        "    [\"get_result_by_result_id\"]\n",
        "    [0]\n",
        "    [\"data\"]\n",
        "    [\"delegated_perc\"]) \n",
        "    \n",
        "    df[\"vlCVX_delegated_on_Votium\"] = ((\n",
        "    get_dune_data(440403)\n",
        "    [\"data\"]\n",
        "    [\"get_result_by_result_id\"]\n",
        "    [0][\"data\"]\n",
        "    [\"delegated_vlcvx\"]) * \n",
        "    df[\"CVX_supply_growth\"] * \n",
        "    vlCVX_delegated_perc / \n",
        "    100)\n",
        "\n",
        "    df[\"vlCVX_bribe_perc\"] = (\n",
        "    df[\"СVX_portion\"] * \n",
        "    df[\"CVX_locked\"] / \n",
        "    df[\"vlCVX_delegated_on_Votium\"])\n",
        "   \n",
        "    for i in range(len(\n",
        "        get_dune_data(420765)\n",
        "        [\"data\"]\n",
        "        [\"get_result_by_result_id\"])):\n",
        "        \n",
        "        USD_per_vlCVX = ((\n",
        "        get_dune_data(420765)\n",
        "        [\"data\"]\n",
        "        [\"get_result_by_result_id\"]\n",
        "        [i]\n",
        "        [\"data\"]\n",
        "        [\"usd_bribe_per_vlcvx\"]) / \n",
        "        10)\n",
        "        USD_per_vlCVX_array.append(USD_per_vlCVX)\n",
        "\n",
        "    USD_per_vlCVX = np.median(USD_per_vlCVX_array) * profit_multiplier\n",
        "    df[\"bribe_amount\"] = (\n",
        "    USD_per_vlCVX  * \n",
        "    df[\"vlCVX_delegated_on_Votium\"] * \n",
        "    df[\"vlCVX_bribe_perc\"])\n",
        "\n",
        "    return df"
      ],
      "metadata": {
        "id": "HghjDJoRO3kK"
      },
      "execution_count": null,
      "outputs": []
    },
    {
      "cell_type": "code",
      "source": [
        "def get_AURA_stats(BAL_capture_rate, growth_multiplier):\n",
        "    df = pd.DataFrame()\n",
        "    AURA_supplies = []\n",
        "    AURA_emissions = []\n",
        "    AURA_current_supply = float(get_token_supply(\"aura-finance\"))\n",
        "    BAL_captured = 0.24\n",
        "    BAL_weekly_emission = 145000 \n",
        "    \n",
        "    for i in list(range(0,35)):\n",
        "        aura_emitted = (\n",
        "        (((500 - \n",
        "           (AURA_current_supply - \n",
        "            50000000) / \n",
        "           100000) * \n",
        "          2.5 \n",
        "          + 700) / \n",
        "         500) * \n",
        "         BAL_weekly_emission * \n",
        "         BAL_captured)\n",
        "        \n",
        "        AURA_emissions.append(aura_emitted)\n",
        "        BAL_captured *= growth_multiplier\n",
        "        AURA_current_supply += aura_emitted\n",
        "        AURA_supplies.append(AURA_current_supply)\n",
        "    \n",
        "    df[\"week\"] = list(range(0,35))\n",
        "    df[\"AURA_emission\"] = AURA_emissions\n",
        "    df[\"AURA_emission_for_LPs\"] = df[\"AURA_emission\"] * 0.5\n",
        "    df[\"AURA_supply\"] = AURA_supplies\n",
        "    \n",
        "    return df"
      ],
      "metadata": {
        "id": "1TV7tkxPU29f"
      },
      "execution_count": null,
      "outputs": []
    },
    {
      "cell_type": "code",
      "source": [
        "def amount_of_AURA_to_lock(\n",
        "    BAL_capture_rate,\n",
        "    growth_multiplier,\n",
        "    APR,\n",
        "    pool_size,\n",
        "    AURA_price):\n",
        "\n",
        "    df = get_AURA_stats(BAL_capture_rate,growth_multiplier)\n",
        "    weekly_return = pool_size * APR * 7 / 365\n",
        "    df[\"portion_of_vlAURA_needed\"] = (\n",
        "    weekly_return / \n",
        "    (AURA_price * \n",
        "     df[\"AURA_emission_for_LPs\"]))\n",
        "    \n",
        "    vlAURA_init_supply = (\n",
        "    get_dune_data(916541)\n",
        "    [\"data\"]\n",
        "    [\"get_result_by_result_id\"]\n",
        "    [0]\n",
        "    [\"data\"]\n",
        "    [\"aura_staked\"])\n",
        "\n",
        "    df[\"AURA_supply_gwth_rate\"] = (\n",
        "    df\n",
        "    [\"AURA_supply\"].\n",
        "    shift(-1) / \n",
        "    df[\"AURA_supply\"]) \n",
        "\n",
        "    df[\"vlAURA_supply\"] = vlAURA_init_supply * df[\"AURA_supply_gwth_rate\"]\n",
        "    df[\"vlAURA_to_lock\"] = (\n",
        "    df[\"portion_of_vlAURA_needed\"] * \n",
        "    df[\"vlAURA_supply\"] * \n",
        "    AURA_price)\n",
        "\n",
        "    return df"
      ],
      "metadata": {
        "id": "pIr2NPFOWdIP"
      },
      "execution_count": null,
      "outputs": []
    },
    {
      "cell_type": "code",
      "source": [
        "def get_bribe_amount_for_AURA(\n",
        "    BAL_capture_rate,\n",
        "    delegation_ratio,\n",
        "    premium_multiplier,\n",
        "    growth_multiplier,\n",
        "    APR,\n",
        "    pool_size,\n",
        "    AURA_price,\n",
        "    USD_per_AURA):\n",
        "    \n",
        "    df = amount_of_AURA_to_lock(\n",
        "    BAL_capture_rate,\n",
        "    growth_multiplier,\n",
        "    APR,\n",
        "    pool_size,\n",
        "    AURA_price)\n",
        "\n",
        "    df[\"delegated_vlAURA\"] = delegation_ratio * df[\"vlAURA_supply\"]           \n",
        "    df[\"portion_of_delegated_vlAURA_needed\"] = (\n",
        "    df[\"portion_of_vlAURA_needed\"] / \n",
        "    delegation_ratio)\n",
        "\n",
        "    df[\"bribe_amount\"] = (\n",
        "    df[\"portion_of_delegated_vlAURA_needed\"] * \n",
        "    df[\"delegated_vlAURA\"] * \n",
        "    USD_per_AURA * \n",
        "    premium_multiplier)\n",
        "    return df"
      ],
      "metadata": {
        "id": "yh5BjcRHBKeU"
      },
      "execution_count": null,
      "outputs": []
    },
    {
      "cell_type": "code",
      "source": [
        "plt.figure(figsize = (8,4))\n",
        "plt.plot(get_bribe_amount_for_AURA(0.24,0.1,1,1,0.2,3000000,5,0.08)[\"week\"],\n",
        "         get_bribe_amount_for_AURA(0.24,0.1,1,1,0.2,3000000,5,0.08)[\"bribe_amount\"],\n",
        "        label = \"profit premium = 0%\")\n",
        "plt.plot(get_bribe_amount_for_AURA(0.24,0.1,1.01,1,0.2,3000000,5,0.08)[\"week\"],\n",
        "         get_bribe_amount_for_AURA(0.24,0.1,2,1,0.2,3000000,5,0.08)[\"bribe_amount\"],\n",
        "         label = \"profit premium = 1%\")\n",
        "plt.plot(get_bribe_amount_for_AURA(0.24,0.1,1.05,1,0.2,3000000,5,0.08)[\"week\"],\n",
        "         get_bribe_amount_for_AURA(0.24,0.1,3,1,0.2,3000000,5,0.08)[\"bribe_amount\"],\n",
        "         label = \"profit premium = 5%\")\n",
        "plt.title(\"weekly vAURA bribes to support 20% APR in $1M pool\")\n",
        "plt.xlabel(\"week\")\n",
        "plt.ylabel(\"bribe amount, $\")\n",
        "plt.legend(loc = \"upper left\")"
      ],
      "metadata": {
        "id": "3cslcQUjCy54"
      },
      "execution_count": null,
      "outputs": []
    },
    {
      "cell_type": "code",
      "source": [
        "plt.figure(figsize = (8,4))\n",
        "plt.plot(calc_amount_to_lock(tokens,0.8,0.2,1000000,5)[\"week\"],\n",
        "        calc_amount_to_lock(tokens,0.8,0.2,1000000,5)[\"CVX_to_lock\"],\n",
        "        label = \"growth multiple = 0.8\")\n",
        "plt.plot(calc_amount_to_lock(tokens,1,0.2,1000000,5)[\"week\"],\n",
        "        calc_amount_to_lock(tokens,1,0.2,1000000,5)[\"CVX_to_lock\"],\n",
        "        label = \"growth multiple = 1\")\n",
        "plt.plot(calc_amount_to_lock(tokens,1.2,0.2,1000000,5)[\"week\"],\n",
        "        calc_amount_to_lock(tokens,1.2,0.2,1000000,5)[\"CVX_to_lock\"],\n",
        "        label = \"growth multiple = 1.2\")\n",
        "\n",
        "plt.xlabel(\"week\", fontsize = 10)\n",
        "plt.ylabel(\"CVX amount to lock, $\", fontsize = 10)\n",
        "plt.legend(loc = \"upper left\")\n",
        "plt.title (\"vlCVX required to achieve 20% APR in $1M pool\")"
      ],
      "metadata": {
        "id": "Gc7ZZi53YZKo"
      },
      "execution_count": null,
      "outputs": []
    },
    {
      "cell_type": "code",
      "source": [
        "plt.figure(figsize = (8,4))\n",
        "plt.plot(amount_of_AURA_to_lock(0.24,1.001,0.2,3000000,get_token_price(\"aura-finance\"))[\"week\"],\n",
        "         amount_of_AURA_to_lock(0.24,1.001,0.2,3000000,get_token_price(\"aura-finance\"))[\"vlAURA_to_lock\"],\n",
        "         label = \"growth_multiplier = 1.001\"\n",
        "        )\n",
        "plt.plot(amount_of_AURA_to_lock(0.24,1.005,0.2,1000000,get_token_price(\"aura-finance\"))[\"week\"],\n",
        "         amount_of_AURA_to_lock(0.24,1.005,0.2,1000000,get_token_price(\"aura-finance\"))[\"vlAURA_to_lock\"],\n",
        "         label = \"growth multiplier = 1.005\"\n",
        "        )\n",
        "plt.plot(amount_of_AURA_to_lock(0.24,1.01,0.2,1000000,get_token_price(\"aura-finance\"))[\"week\"],\n",
        "         amount_of_AURA_to_lock(0.24,1.01,0.2,1000000,get_token_price(\"aura-finance\"))[\"vlAURA_to_lock\"],\n",
        "         label = \"growth multiplier = 1.01\"\n",
        "        )\n",
        "plt.xlabel(\"week\", fontsize = 10)\n",
        "plt.ylabel(\"AURA amount to lock, $\", fontsize = 10)\n",
        "plt.legend(loc = \"lower left\")\n",
        "plt.title (\"vlAURA required for 30% APR in $3M pool\")"
      ],
      "metadata": {
        "id": "1BdhYKWebTYt"
      },
      "execution_count": null,
      "outputs": []
    },
    {
      "cell_type": "code",
      "source": [
        "plt.figure(figsize = (8,4))\n",
        "plt.plot(calc_bribes(tokens,1,1,0.2,1000000,5)[\"week\"],\n",
        "         calc_bribes(tokens,1,1,0.2,1000000,5)[\"bribe_amount\"],\n",
        "         label = \"profit premium = 0%\"\n",
        "        )\n",
        "plt.plot(calc_bribes(tokens,1,1.01,0.2,1000000,5)[\"week\"],\n",
        "         calc_bribes(tokens,1,1.01,0.2,1000000,5)[\"bribe_amount\"],\n",
        "         label = \"profit premium = 1%\"\n",
        "        )\n",
        "plt.plot(calc_bribes(tokens,1,1.05,0.2,1000000,5)[\"week\"],\n",
        "         calc_bribes(tokens,1,1.05,0.2,1000000,5)[\"bribe_amount\"],\n",
        "         label = \"profit premium = 5%\"\n",
        "        )\n",
        "plt.title(\"weekly vlCVX bribes to support 20% APR in $1M pool\")\n",
        "plt.xlabel(\"week\")\n",
        "plt.ylabel(\"bribe amount, $\")\n",
        "plt.legend(loc = \"upper left\")"
      ],
      "metadata": {
        "id": "1mLRQAqlbYs4"
      },
      "execution_count": null,
      "outputs": []
    }
  ]
}